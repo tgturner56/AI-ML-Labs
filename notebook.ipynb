{
  "cells": [
    {
      "cell_type": "markdown",
      "metadata": {
        "id": "lxhONvHIM5Mi"
      },
      "source": [
        "# Logistic Regression Lab for Data Breach Dataset\n",
        "## Introduction to Machine Learning - Homework Assignment\n",
        "\n",
        "### Overview\n",
        "In this lab, you'll learn about logistic regression, a fundamental machine learning algorithm used for classification problems. You'll work with a real-world data breach dataset to build a model that predicts whether a security breach will affect a large number of individuals.\n",
        "\n",
        "**Learning Objectives:**\n",
        "- Understand what logistic regression is and when to use it\n",
        "- Learn how to prepare data for machine learning\n",
        "- Build and evaluate a simple logistic regression model\n",
        "- Interpret the results of your model\n",
        "\n"
      ]
    },
    {
      "cell_type": "markdown",
      "metadata": {},
      "source": [
        "## Part 1: Introduction to Logistic Regression\n",
        "\n",
        "### What is Logistic Regression?\n",
        "Logistic regression is a statistical method used for predicting binary outcomes (Yes/No, True/False, 0/1). Unlike linear regression which predicts continuous values, logistic regression predicts the probability that an instance belongs to a particular class.\n",
        "\n",
        "**Examples of logistic regression applications:**\n",
        "- Predicting whether an email is spam or not\n",
        "- Determining if a patient has a disease based on symptoms\n",
        "- Forecasting if a customer will make a purchase\n",
        "\n",
        "### About the Dataset\n",
        "The dataset you'll be working with contains information about data breaches reported to various state Attorneys General offices. Each row represents a separate breach incident with details about:\n",
        "- The organization affected\n",
        "- The type of breach\n",
        "- When it happened\n",
        "- How many individuals were affected\n",
        "- What type of information was compromised"
      ]
    },
    {
      "cell_type": "markdown",
      "metadata": {},
      "source": [
        "## Part 2: Data Exploration\n",
        "\n",
        "### Loading the Data\n",
        "We'll start by loading the data and examining its structure."
      ]
    },
    {
      "cell_type": "markdown",
      "metadata": {
        "id": "zyb89vuoM5Mk"
      },
      "source": [
        "# Import Python libraries"
      ]
    },
    {
      "cell_type": "code",
      "execution_count": 31,
      "metadata": {
        "id": "5mb7GO-TM5Mk"
      },
      "outputs": [],
      "source": [
        "import pandas as pd\n",
        "import numpy as np\n",
        "import seaborn as sns\n",
        "import matplotlib.pyplot as plt\n",
        "from sklearn.model_selection import train_test_split\n",
        "from sklearn.linear_model import LinearRegression"
      ]
    },
    {
      "cell_type": "code",
      "execution_count": null,
      "metadata": {},
      "outputs": [],
      "source": [
        "# Load the dataset\n",
        "# The read_excel function loads data from Excel files\n",
        "df = pd.read_csv('https://github.com/scottalanturner/AI-ML-Labs/blob/main/Logistic-Regression/data/Data_Breach_Chronology_sample.csv?raw=true', sep='|', quoting=1)\n",
        "\n",
        "# Display the first few rows\n",
        "print(\"First 5 rows of the dataset:\")\n",
        "df.head()"
      ]
    },
    {
      "cell_type": "markdown",
      "metadata": {},
      "source": [
        "### Understanding the Dataset\n",
        "Let's look at some basic information about our dataset."
      ]
    },
    {
      "cell_type": "code",
      "execution_count": null,
      "metadata": {},
      "outputs": [],
      "source": [
        "# Check the size of our dataset\n",
        "print(f\"Dataset dimensions: {df.shape[0]} rows and {df.shape[1]} columns\")\n",
        "\n",
        "# Get column names\n",
        "print(\"\\nColumn names:\")\n",
        "for col in df.columns:\n",
        "    print(f\"- {col}\")\n",
        "\n",
        "# Check for missing values\n",
        "print(\"\\nMissing values in each column:\")\n",
        "print(df.isnull().sum())\n",
        "\n",
        "# Get summary statistics\n",
        "print(\"\\nSummary statistics for numeric columns:\")\n",
        "df.describe()"
      ]
    },
    {
      "cell_type": "markdown",
      "metadata": {},
      "source": [
        "### Data Visualization\n",
        "Let's create some visualizations to better understand our data.\n"
      ]
    },
    {
      "cell_type": "code",
      "execution_count": null,
      "metadata": {},
      "outputs": [],
      "source": [
        "# Create a figure with multiple subplots\n",
        "plt.figure(figsize=(15, 10))\n",
        "\n",
        "# Plot 1: Distribution of breach types\n",
        "plt.subplot(2, 2, 1)\n",
        "breach_counts = df['breach_type'].value_counts()\n",
        "sns.barplot(x=breach_counts.index, y=breach_counts.values)\n",
        "plt.title('Types of Data Breaches')\n",
        "plt.xticks(rotation=90)\n",
        "plt.ylabel('Count')\n",
        "\n",
        "# Plot 2: Distribution of organization types\n",
        "plt.subplot(2, 2, 2)\n",
        "org_counts = df['organization_type'].value_counts()\n",
        "sns.barplot(x=org_counts.index, y=org_counts.values)\n",
        "plt.title('Types of Organizations Affected')\n",
        "plt.xticks(rotation=90)\n",
        "plt.ylabel('Count')\n",
        "\n",
        "# Plot 3: Number of affected individuals (log scale)\n",
        "plt.subplot(2, 2, 3)\n",
        "# Convert to numeric and handle non-numeric values\n",
        "df['total_affected_numeric'] = pd.to_numeric(df['total_affected'], errors='coerce')\n",
        "# Filter out missing values for the plot\n",
        "df_filtered = df[df['total_affected_numeric'].notna()]\n",
        "plt.hist(df_filtered['total_affected_numeric'], bins=30)\n",
        "plt.title('Distribution of Number of Affected Individuals')\n",
        "plt.xlabel('Number of People Affected')\n",
        "plt.ylabel('Frequency')\n",
        "plt.xscale('log')  # Use log scale for better visualization\n",
        "\n",
        "# Plot 4: Breach type vs average number affected\n",
        "plt.subplot(2, 2, 4)\n",
        "breach_impact = df.groupby('breach_type')['total_affected_numeric'].mean().sort_values(ascending=False)\n",
        "sns.barplot(x=breach_impact.index, y=breach_impact.values)\n",
        "plt.title('Average Number of People Affected by Breach Type')\n",
        "plt.xticks(rotation=90)\n",
        "plt.ylabel('Average Number Affected')\n",
        "\n",
        "plt.tight_layout()\n",
        "plt.savefig('data_exploration.png')  # Save for your report\n",
        "plt.show()"
      ]
    },
    {
      "cell_type": "markdown",
      "metadata": {},
      "source": [
        "**Questions to consider:**\n",
        "1. Which types of breaches are most common?\n",
        "2. What types of organizations suffer the most breaches?\n",
        "3. Is there a relationship between breach type and number of people affected?"
      ]
    },
    {
      "cell_type": "markdown",
      "metadata": {},
      "source": [
        "## Part 3: Data Preparation\n",
        "\n",
        "### Creating a Target Variable\n",
        "We'll define a binary target variable for our logistic regression model: whether a breach affects a \"large\" number of individuals or not.\n"
      ]
    },
    {
      "cell_type": "code",
      "execution_count": null,
      "metadata": {},
      "outputs": [],
      "source": [
        "# Define what makes a \"large\" breach (more than 10,000 individuals affected)\n",
        "threshold = 10000\n",
        "\n",
        "# Create our target variable\n",
        "df['large_breach'] = (df['total_affected_numeric'] > threshold).astype(int)\n",
        "\n",
        "# Display the distribution of our target variable\n",
        "print(f\"Number of large breaches: {df['large_breach'].sum()}\")\n",
        "print(f\"Number of small breaches: {len(df) - df['large_breach'].sum()}\")\n",
        "print(f\"Percentage of large breaches: {df['large_breach'].mean() * 100:.2f}%\")\n",
        "\n",
        "# Visualize the distribution\n",
        "plt.figure(figsize=(8, 6))\n",
        "sns.countplot(x='large_breach', data=df)\n",
        "plt.title('Distribution of Large vs. Small Breaches')\n",
        "plt.xlabel('Large Breach (1 = Yes, 0 = No)')\n",
        "plt.ylabel('Count')\n",
        "plt.savefig('target_distribution.png')  # Save for your report\n",
        "plt.show()"
      ]
    },
    {
      "cell_type": "markdown",
      "metadata": {},
      "source": [
        "### Preparing Features\n",
        "Now we need to prepare our feature variables (predictors) for the model."
      ]
    },
    {
      "cell_type": "code",
      "execution_count": null,
      "metadata": {},
      "outputs": [],
      "source": [
        "# Select features we want to use for prediction\n",
        "# We'll choose the breach type and organization type\n",
        "selected_features = ['breach_type', 'organization_type']\n",
        "\n",
        "# Handle non-numeric values in breach_type and organization_type\n",
        "# We'll convert categorical variables to numeric using one-hot encoding\n",
        "from sklearn.preprocessing import OneHotEncoder\n",
        "\n",
        "# Select only rows with valid target values\n",
        "df_model = df.dropna(subset=['large_breach'])\n",
        "\n",
        "# Create encoder object\n",
        "encoder = OneHotEncoder(sparse_output=False, drop='first')  # drop first category to avoid multicollinearity\n",
        "\n",
        "# Apply one-hot encoding to our categorical variables\n",
        "encoded_features = encoder.fit_transform(df_model[selected_features])\n",
        "\n",
        "# Get the feature names after encoding\n",
        "feature_names = encoder.get_feature_names_out(selected_features)\n",
        "print(\"Feature names after encoding:\")\n",
        "print(feature_names)\n",
        "\n",
        "# Create a DataFrame with the encoded features\n",
        "X = pd.DataFrame(encoded_features, columns=feature_names)\n",
        "\n",
        "# Define the target variable\n",
        "y = df_model['large_breach']\n",
        "\n",
        "# Show the first few rows of prepared data\n",
        "X.head()"
      ]
    },
    {
      "cell_type": "markdown",
      "metadata": {},
      "source": []
    },
    {
      "cell_type": "markdown",
      "metadata": {},
      "source": [
        "## Part 4: Building the Model\n",
        "\n",
        "### Splitting the Data\n",
        "We'll split our data into training and testing sets."
      ]
    },
    {
      "cell_type": "code",
      "execution_count": null,
      "metadata": {},
      "outputs": [],
      "source": [
        "# Import necessary function\n",
        "from sklearn.model_selection import train_test_split\n",
        "\n",
        "# Split the data into training (80%) and testing (20%) sets\n",
        "X_train, X_test, y_train, y_test = train_test_split(X, y, test_size=0.2, random_state=42)\n",
        "\n",
        "# Check the shape of our training and testing sets\n",
        "print(f\"Training set shape: {X_train.shape}\")\n",
        "print(f\"Testing set shape: {X_test.shape}\")"
      ]
    },
    {
      "cell_type": "markdown",
      "metadata": {},
      "source": [
        "### Creating and Training the Model"
      ]
    },
    {
      "cell_type": "code",
      "execution_count": null,
      "metadata": {},
      "outputs": [],
      "source": [
        "# Import the logistic regression model\n",
        "from sklearn.linear_model import LogisticRegression\n",
        "\n",
        "# Create a logistic regression model\n",
        "model = LogisticRegression(random_state=42)\n",
        "\n",
        "# Train the model using the training data\n",
        "model.fit(X_train, y_train)\n",
        "\n",
        "# Display the model coefficients\n",
        "print(\"Model coefficients:\")\n",
        "for feature, coefficient in zip(X.columns, model.coef_[0]):\n",
        "    print(f\"{feature}: {coefficient:.4f}\")\n",
        "\n",
        "# Display the intercept\n",
        "print(f\"Intercept: {model.intercept_[0]:.4f}\")"
      ]
    },
    {
      "cell_type": "markdown",
      "metadata": {},
      "source": [
        "**Understanding Model Coefficients:**\n",
        "- **Positive coefficients**: Indicate features that increase the probability of a large breach\n",
        "- **Negative coefficients**: Indicate features that decrease the probability of a large breach\n",
        "- **Larger magnitude**: Indicates a stronger effect"
      ]
    },
    {
      "cell_type": "markdown",
      "metadata": {},
      "source": [
        "## Part 5: Evaluating the Model\n",
        "\n",
        "### Making Predictions"
      ]
    },
    {
      "cell_type": "code",
      "execution_count": null,
      "metadata": {},
      "outputs": [],
      "source": [
        "# Use the model to make predictions on the test set\n",
        "y_pred = model.predict(X_test)\n",
        "\n",
        "# Compare the first few actual values vs. predictions\n",
        "comparison = pd.DataFrame({'Actual': y_test.values, 'Predicted': y_pred})\n",
        "print(\"First 10 actual vs predicted values:\")\n",
        "print(comparison.head(10))"
      ]
    },
    {
      "cell_type": "markdown",
      "metadata": {},
      "source": [
        "### Model Accuracy\n"
      ]
    },
    {
      "cell_type": "code",
      "execution_count": null,
      "metadata": {},
      "outputs": [],
      "source": [
        "# Import necessary metrics\n",
        "from sklearn.metrics import accuracy_score, confusion_matrix, classification_report\n",
        "\n",
        "# Calculate accuracy\n",
        "accuracy = accuracy_score(y_test, y_pred)\n",
        "print(f\"Model accuracy: {accuracy:.4f} ({accuracy*100:.2f}%)\")\n",
        "\n",
        "# Display confusion matrix with labeled quadrants\n",
        "conf_matrix = confusion_matrix(y_test, y_pred)\n",
        "\n",
        "# Create a figure\n",
        "plt.figure(figsize=(10, 8))\n",
        "\n",
        "# Create the heatmap\n",
        "sns.heatmap(conf_matrix, annot=True, fmt='d', cmap='Blues',\n",
        "            xticklabels=['Small Breach', 'Large Breach'],\n",
        "            yticklabels=['Small Breach', 'Large Breach'])\n",
        "\n",
        "# Add quadrant labels with arrows\n",
        "plt.text(0.25, 0.25, \"TRUE NEGATIVE\", horizontalalignment='center',\n",
        "         size=12, color='black', weight='bold')\n",
        "plt.text(1.25, 0.25, \"FALSE POSITIVE\", horizontalalignment='center',\n",
        "         size=12, color='black', weight='bold')\n",
        "plt.text(0.25, 1.25, \"FALSE NEGATIVE\", horizontalalignment='center',\n",
        "         size=12, color='black', weight='bold')\n",
        "plt.text(1.25, 1.25, \"TRUE POSITIVE\", horizontalalignment='center',\n",
        "         size=12, color='black', weight='bold')\n",
        "\n",
        "# Labels and title\n",
        "plt.xlabel('Predicted')\n",
        "plt.ylabel('Actual')\n",
        "plt.title('Confusion Matrix with Quadrant Labels')\n",
        "plt.savefig('confusion_matrix.png')  # Save for your report\n",
        "plt.show()\n",
        "\n",
        "# Add explanation for students\n",
        "print(\"\\nUnderstanding the Confusion Matrix:\")\n",
        "print(\"- TRUE NEGATIVE (TN): Correctly predicted Small Breach\")\n",
        "print(\"- FALSE POSITIVE (FP): Incorrectly predicted Large Breach when actually Small\")\n",
        "print(\"- FALSE NEGATIVE (FN): Incorrectly predicted Small Breach when actually Large\")\n",
        "print(\"- TRUE POSITIVE (TP): Correctly predicted Large Breach\")\n",
        "print(f\"\\nAccuracy: {(conf_matrix[0,0] + conf_matrix[1,1])/conf_matrix.sum():.4f}\")\n",
        "print(f\"Error Rate: {(conf_matrix[0,1] + conf_matrix[1,0])/conf_matrix.sum():.4f}\")"
      ]
    },
    {
      "cell_type": "markdown",
      "metadata": {},
      "source": [
        "**Understanding the Confusion Matrix:**\n",
        "- **True Positives (TP)**: Correctly predicted large breaches\n",
        "- **True Negatives (TN)**: Correctly predicted small breaches\n",
        "- **False Positives (FP)**: Small breaches incorrectly predicted as large\n",
        "- **False Negatives (FN)**: Large breaches incorrectly predicted as small\n",
        "\n",
        "**Understanding Classification Metrics:**\n",
        "- **Precision**: Percentage of predicted large breaches that are actually large\n",
        "- **Recall**: Percentage of actual large breaches that were correctly identified\n",
        "- **F1-score**: Harmonic mean of precision and recall"
      ]
    },
    {
      "cell_type": "markdown",
      "metadata": {},
      "source": [
        "## Part 6: Conclusion and Reflection\n",
        "\n",
        "### Model Interpretation"
      ]
    },
    {
      "cell_type": "code",
      "execution_count": null,
      "metadata": {},
      "outputs": [],
      "source": [
        "# Let's see which features are most important\n",
        "feature_importance = pd.DataFrame({\n",
        "    'Feature': X.columns,\n",
        "    'Importance': np.abs(model.coef_[0])\n",
        "})\n",
        "feature_importance = feature_importance.sort_values('Importance', ascending=False)\n",
        "\n",
        "plt.figure(figsize=(10, 6))\n",
        "sns.barplot(x='Importance', y='Feature', data=feature_importance.head(10))\n",
        "plt.title('Top 10 Most Important Features')\n",
        "plt.savefig('feature_importance.png')  # Save for your report\n",
        "plt.show()"
      ]
    },
    {
      "cell_type": "markdown",
      "metadata": {},
      "source": [
        "### Reflection Questions\n",
        "Take some time to reflect on the following questions:\n",
        "\n",
        "1. What does our logistic regression model predict in this context?\n",
        "2. Which features have the strongest influence on whether a breach will be large?\n",
        "3. What are the limitations of our model?\n",
        "4. How could we improve the model's performance?\n",
        "5. What other questions could we answer with this dataset?"
      ]
    },
    {
      "cell_type": "markdown",
      "metadata": {},
      "source": [
        "## Homework Deliverables\n",
        "\n",
        "Please submit the following:\n",
        "\n",
        "1. **This completed Jupyter Notebook in your Git repo**\n",
        "   - Run all cells and export the notebook as PDF\n",
        "   - Include all outputs, especially visualizations\n",
        "   - Add the notebook to your repo\n",
        "\n",
        "2. **Written responses (3-5 sentences each):**\n",
        "   - Type your responses in this notebook, by adding a markdown cell below. Answer each question:\n",
        "   - What does logistic regression predict in this context?\n",
        "   - Which features seem most important in predicting large breaches?\n",
        "   - What are the limitations of this model? HINT: There is a problem with the accuracy of this model\n",
        "   - How might organizations use this information to improve security?\n"
      ]
    },
    {
      "cell_type": "markdown",
      "metadata": {},
      "source": []
    }
  ],
  "metadata": {
    "colab": {
      "provenance": []
    },
    "kernelspec": {
      "display_name": "venv",
      "language": "python",
      "name": "python3"
    },
    "language_info": {
      "codemirror_mode": {
        "name": "ipython",
        "version": 3
      },
      "file_extension": ".py",
      "mimetype": "text/x-python",
      "name": "python",
      "nbconvert_exporter": "python",
      "pygments_lexer": "ipython3",
      "version": "3.12.7"
    }
  },
  "nbformat": 4,
  "nbformat_minor": 0
}
